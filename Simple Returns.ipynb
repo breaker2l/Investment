{
 "cells": [
  {
   "cell_type": "code",
   "execution_count": 4,
   "metadata": {},
   "outputs": [],
   "source": [
    "import numpy as np \n",
    "from pandas_datareader import data as wb\n",
    "import matplotlib.pyplot as plt"
   ]
  },
  {
   "cell_type": "code",
   "execution_count": 5,
   "metadata": {},
   "outputs": [
    {
     "data": {
      "text/html": [
       "<div>\n",
       "<style scoped>\n",
       "    .dataframe tbody tr th:only-of-type {\n",
       "        vertical-align: middle;\n",
       "    }\n",
       "\n",
       "    .dataframe tbody tr th {\n",
       "        vertical-align: top;\n",
       "    }\n",
       "\n",
       "    .dataframe thead th {\n",
       "        text-align: right;\n",
       "    }\n",
       "</style>\n",
       "<table border=\"1\" class=\"dataframe\">\n",
       "  <thead>\n",
       "    <tr style=\"text-align: right;\">\n",
       "      <th></th>\n",
       "      <th>High</th>\n",
       "      <th>Low</th>\n",
       "      <th>Open</th>\n",
       "      <th>Close</th>\n",
       "      <th>Volume</th>\n",
       "      <th>Adj Close</th>\n",
       "    </tr>\n",
       "    <tr>\n",
       "      <th>Date</th>\n",
       "      <th></th>\n",
       "      <th></th>\n",
       "      <th></th>\n",
       "      <th></th>\n",
       "      <th></th>\n",
       "      <th></th>\n",
       "    </tr>\n",
       "  </thead>\n",
       "  <tbody>\n",
       "    <tr>\n",
       "      <th>1995-01-03</th>\n",
       "      <td>15.62500</td>\n",
       "      <td>15.43750</td>\n",
       "      <td>15.46875</td>\n",
       "      <td>15.59375</td>\n",
       "      <td>3318400.0</td>\n",
       "      <td>6.441071</td>\n",
       "    </tr>\n",
       "    <tr>\n",
       "      <th>1995-01-04</th>\n",
       "      <td>15.65625</td>\n",
       "      <td>15.31250</td>\n",
       "      <td>15.53125</td>\n",
       "      <td>15.46875</td>\n",
       "      <td>2218800.0</td>\n",
       "      <td>6.389442</td>\n",
       "    </tr>\n",
       "    <tr>\n",
       "      <th>1995-01-05</th>\n",
       "      <td>15.43750</td>\n",
       "      <td>15.21875</td>\n",
       "      <td>15.37500</td>\n",
       "      <td>15.25000</td>\n",
       "      <td>2319600.0</td>\n",
       "      <td>6.299082</td>\n",
       "    </tr>\n",
       "    <tr>\n",
       "      <th>1995-01-06</th>\n",
       "      <td>15.40625</td>\n",
       "      <td>15.15625</td>\n",
       "      <td>15.15625</td>\n",
       "      <td>15.28125</td>\n",
       "      <td>3438000.0</td>\n",
       "      <td>6.311993</td>\n",
       "    </tr>\n",
       "    <tr>\n",
       "      <th>1995-01-09</th>\n",
       "      <td>15.40625</td>\n",
       "      <td>15.18750</td>\n",
       "      <td>15.34375</td>\n",
       "      <td>15.21875</td>\n",
       "      <td>1795200.0</td>\n",
       "      <td>6.286175</td>\n",
       "    </tr>\n",
       "  </tbody>\n",
       "</table>\n",
       "</div>"
      ],
      "text/plain": [
       "                High       Low      Open     Close     Volume  Adj Close\n",
       "Date                                                                    \n",
       "1995-01-03  15.62500  15.43750  15.46875  15.59375  3318400.0   6.441071\n",
       "1995-01-04  15.65625  15.31250  15.53125  15.46875  2218800.0   6.389442\n",
       "1995-01-05  15.43750  15.21875  15.37500  15.25000  2319600.0   6.299082\n",
       "1995-01-06  15.40625  15.15625  15.15625  15.28125  3438000.0   6.311993\n",
       "1995-01-09  15.40625  15.18750  15.34375  15.21875  1795200.0   6.286175"
      ]
     },
     "execution_count": 5,
     "metadata": {},
     "output_type": "execute_result"
    }
   ],
   "source": [
    "PG = wb.DataReader('PG',data_source='yahoo',start = '1995-1-1')\n",
    "PG.head()"
   ]
  },
  {
   "cell_type": "code",
   "execution_count": 6,
   "metadata": {},
   "outputs": [
    {
     "data": {
      "text/html": [
       "<div>\n",
       "<style scoped>\n",
       "    .dataframe tbody tr th:only-of-type {\n",
       "        vertical-align: middle;\n",
       "    }\n",
       "\n",
       "    .dataframe tbody tr th {\n",
       "        vertical-align: top;\n",
       "    }\n",
       "\n",
       "    .dataframe thead th {\n",
       "        text-align: right;\n",
       "    }\n",
       "</style>\n",
       "<table border=\"1\" class=\"dataframe\">\n",
       "  <thead>\n",
       "    <tr style=\"text-align: right;\">\n",
       "      <th></th>\n",
       "      <th>High</th>\n",
       "      <th>Low</th>\n",
       "      <th>Open</th>\n",
       "      <th>Close</th>\n",
       "      <th>Volume</th>\n",
       "      <th>Adj Close</th>\n",
       "    </tr>\n",
       "    <tr>\n",
       "      <th>Date</th>\n",
       "      <th></th>\n",
       "      <th></th>\n",
       "      <th></th>\n",
       "      <th></th>\n",
       "      <th></th>\n",
       "      <th></th>\n",
       "    </tr>\n",
       "  </thead>\n",
       "  <tbody>\n",
       "    <tr>\n",
       "      <th>2019-08-05</th>\n",
       "      <td>116.300003</td>\n",
       "      <td>112.830002</td>\n",
       "      <td>116.089996</td>\n",
       "      <td>113.080002</td>\n",
       "      <td>12974800.0</td>\n",
       "      <td>113.080002</td>\n",
       "    </tr>\n",
       "    <tr>\n",
       "      <th>2019-08-06</th>\n",
       "      <td>115.000000</td>\n",
       "      <td>113.180000</td>\n",
       "      <td>113.650002</td>\n",
       "      <td>114.279999</td>\n",
       "      <td>9490600.0</td>\n",
       "      <td>114.279999</td>\n",
       "    </tr>\n",
       "    <tr>\n",
       "      <th>2019-08-07</th>\n",
       "      <td>116.239998</td>\n",
       "      <td>112.680000</td>\n",
       "      <td>113.750000</td>\n",
       "      <td>115.519997</td>\n",
       "      <td>9507600.0</td>\n",
       "      <td>115.519997</td>\n",
       "    </tr>\n",
       "    <tr>\n",
       "      <th>2019-08-08</th>\n",
       "      <td>117.489998</td>\n",
       "      <td>115.339996</td>\n",
       "      <td>115.519997</td>\n",
       "      <td>117.440002</td>\n",
       "      <td>7416600.0</td>\n",
       "      <td>117.440002</td>\n",
       "    </tr>\n",
       "    <tr>\n",
       "      <th>2019-08-09</th>\n",
       "      <td>118.040001</td>\n",
       "      <td>115.849998</td>\n",
       "      <td>117.620003</td>\n",
       "      <td>116.779999</td>\n",
       "      <td>6828200.0</td>\n",
       "      <td>116.779999</td>\n",
       "    </tr>\n",
       "  </tbody>\n",
       "</table>\n",
       "</div>"
      ],
      "text/plain": [
       "                  High         Low        Open       Close      Volume  \\\n",
       "Date                                                                     \n",
       "2019-08-05  116.300003  112.830002  116.089996  113.080002  12974800.0   \n",
       "2019-08-06  115.000000  113.180000  113.650002  114.279999   9490600.0   \n",
       "2019-08-07  116.239998  112.680000  113.750000  115.519997   9507600.0   \n",
       "2019-08-08  117.489998  115.339996  115.519997  117.440002   7416600.0   \n",
       "2019-08-09  118.040001  115.849998  117.620003  116.779999   6828200.0   \n",
       "\n",
       "             Adj Close  \n",
       "Date                    \n",
       "2019-08-05  113.080002  \n",
       "2019-08-06  114.279999  \n",
       "2019-08-07  115.519997  \n",
       "2019-08-08  117.440002  \n",
       "2019-08-09  116.779999  "
      ]
     },
     "execution_count": 6,
     "metadata": {},
     "output_type": "execute_result"
    }
   ],
   "source": [
    "PG.tail()"
   ]
  },
  {
   "cell_type": "code",
   "execution_count": 8,
   "metadata": {},
   "outputs": [
    {
     "name": "stdout",
     "output_type": "stream",
     "text": [
      "Date\n",
      "1995-01-03         NaN\n",
      "1995-01-04   -0.008016\n",
      "1995-01-05   -0.014142\n",
      "1995-01-06    0.002050\n",
      "1995-01-09   -0.004090\n",
      "1995-01-10    0.012321\n",
      "1995-01-11   -0.002029\n",
      "1995-01-12    0.010163\n",
      "1995-01-13    0.029230\n",
      "1995-01-16    0.008001\n",
      "1995-01-17    0.003968\n",
      "1995-01-18   -0.021739\n",
      "1995-01-19   -0.004041\n",
      "1995-01-20   -0.004057\n",
      "1995-01-23    0.010183\n",
      "1995-01-24   -0.002016\n",
      "1995-01-25    0.014141\n",
      "1995-01-26    0.003985\n",
      "1995-01-27    0.027778\n",
      "1995-01-30    0.015443\n",
      "1995-01-31   -0.009505\n",
      "1995-02-01   -0.019194\n",
      "1995-02-02    0.007828\n",
      "1995-02-03    0.009708\n",
      "1995-02-06    0.023077\n",
      "1995-02-07   -0.001879\n",
      "1995-02-08   -0.011299\n",
      "1995-02-09   -0.001904\n",
      "1995-02-10   -0.001909\n",
      "1995-02-13    0.007649\n",
      "                ...   \n",
      "2019-06-28   -0.001184\n",
      "2019-07-01    0.007661\n",
      "2019-07-02    0.008960\n",
      "2019-07-03    0.023323\n",
      "2019-07-05   -0.008152\n",
      "2019-07-08    0.007954\n",
      "2019-07-09   -0.009996\n",
      "2019-07-10    0.007440\n",
      "2019-07-11    0.005538\n",
      "2019-07-12    0.005333\n",
      "2019-07-15    0.004261\n",
      "2019-07-16    0.003550\n",
      "2019-07-17    0.000431\n",
      "2019-07-18    0.002136\n",
      "2019-07-19   -0.003725\n",
      "2019-07-22    0.002522\n",
      "2019-07-23   -0.012576\n",
      "2019-07-24   -0.010979\n",
      "2019-07-25    0.001510\n",
      "2019-07-26    0.017381\n",
      "2019-07-29    0.011069\n",
      "2019-07-30    0.038017\n",
      "2019-07-31   -0.019683\n",
      "2019-08-01   -0.011098\n",
      "2019-08-02   -0.002484\n",
      "2019-08-05   -0.028856\n",
      "2019-08-06    0.010612\n",
      "2019-08-07    0.010851\n",
      "2019-08-08    0.016621\n",
      "2019-08-09   -0.005620\n",
      "Name: simple_return, Length: 6195, dtype: float64\n"
     ]
    }
   ],
   "source": [
    "PG['simple_return']= (PG['Adj Close'] /PG['Adj Close'].shift(1))-1\n",
    "print(PG['simple_return'])"
   ]
  },
  {
   "cell_type": "code",
   "execution_count": 9,
   "metadata": {},
   "outputs": [
    {
     "data": {
      "text/plain": [
       "High             False\n",
       "Low              False\n",
       "Open             False\n",
       "Close            False\n",
       "Volume           False\n",
       "Adj Close        False\n",
       "simple_return     True\n",
       "dtype: bool"
      ]
     },
     "execution_count": 9,
     "metadata": {},
     "output_type": "execute_result"
    }
   ],
   "source": [
    "PG.isnull().any()"
   ]
  },
  {
   "cell_type": "code",
   "execution_count": 11,
   "metadata": {},
   "outputs": [
    {
     "data": {
      "text/plain": [
       "<matplotlib.axes._subplots.AxesSubplot at 0x29cfc8af6d8>"
      ]
     },
     "execution_count": 11,
     "metadata": {},
     "output_type": "execute_result"
    },
    {
     "data": {
      "image/png": "[encoded data removed]",
      "text/plain": [
       "<Figure size 1296x648 with 1 Axes>"
      ]
     },
     "metadata": {
      "needs_background": "light"
     },
     "output_type": "display_data"
    }
   ],
   "source": [
    "plt.subplots(figsize=(18, 9))\n",
    "PG['Adj Close'].value_counts().plot.bar() #make a quick plot"
   ]
  },
  {
   "cell_type": "code",
   "execution_count": null,
   "metadata": {},
   "outputs": [],
   "source": []
  }
 ],
 "metadata": {
  "kernelspec": {
   "display_name": "Python 3",
   "language": "python",
   "name": "python3"
  },
  "language_info": {
   "codemirror_mode": {
    "name": "ipython",
    "version": 3
   },
   "file_extension": ".py",
   "mimetype": "text/x-python",
   "name": "python",
   "nbconvert_exporter": "python",
   "pygments_lexer": "ipython3",
   "version": "3.7.3"
  }
 },
 "nbformat": 4,
 "nbformat_minor": 2
}
