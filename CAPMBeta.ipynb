import numpy as np
import pandas as pd
from pandas_datareader import data as wb
tickers = ['PG','^GSPC']
data = pd.DataFrame()
for t in tickers:
    data[t] = wb.DataReader(t, data_source='yahoo',start='2012-1-1',end='2018-12-31')['Adj Close']
sec_returns = np.log(data / data.shift(1))
cov = sec_returns.cov() * 250
cov
cov_with_market = cov.iloc[0,1]
cov_with_market
market_var = sec_returns['^GSPC'].var() * 250
market_var
#Beta
PG_beta = cov_with_market / market_var
PG_beta
